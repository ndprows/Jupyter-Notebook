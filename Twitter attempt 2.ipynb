{
 "cells": [
  {
   "cell_type": "code",
   "execution_count": null,
   "metadata": {
    "collapsed": false
   },
   "outputs": [],
   "source": [
    "import tweepy\n",
    "consumer_key = \"6FzcPK8REzL2oRk1nqml4MmvA\"\n",
    "consumer_secret = \"RVwzBXYUezSsiX7XElGtqUhyoDhgAeANtkSFPBB9Tu07tYSQSa\"\n",
    "access_token = \"822850617630752769-PJMPhegwZ8jCAqfiNcpAQdxJ4oX3IKg\"\n",
    "access_secret = \"wS9cLXdInvFGOBFQliMwctt6CmOSM6TTkuGMVUDYQQe7y\"\n",
    "\n",
    "auth = tweepy.OAuthHandler(consumer_key,consumer_secret)\n",
    "auth.set_access_token(access_token,access_secret)\n",
    "\n",
    "api = tweepy.API(auth)\n",
    "class MyStreamListener(tweepy.StreamListener):\n",
    "    \n",
    "    def on_data(self, data):\n",
    "        print(data)\n",
    "        return True\n",
    "    \n",
    "    def on_satus(self, satus):\n",
    "        print(status.text)\n",
    "        \n",
    "myStreamListener = MyStreamListener()\n",
    "myStream = tweepy.Stream(auth = api.auth, listener = myStreamListener)\n",
    "\n",
    "myStream.filter(track=['python','ruby','javascript'])"
   ]
  }
 ],
 "metadata": {
  "kernelspec": {
   "display_name": "Python [default]",
   "language": "python",
   "name": "python3"
  },
  "language_info": {
   "codemirror_mode": {
    "name": "ipython",
    "version": 3
   },
   "file_extension": ".py",
   "mimetype": "text/x-python",
   "name": "python",
   "nbconvert_exporter": "python",
   "pygments_lexer": "ipython3",
   "version": "3.5.2"
  }
 },
 "nbformat": 4,
 "nbformat_minor": 1
}
