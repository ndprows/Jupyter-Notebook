{
 "cells": [
  {
   "cell_type": "markdown",
   "metadata": {
    "collapsed": true
   },
   "source": [
    "A simple illustration of the simpsons rule for definite integration.<br>\n",
    "The formula is given in equation 1 below:\n",
    "\n",
    "$$\n",
    "\\int_{a}^{b} f(x)\\, dx \\approx \\frac{b-a}{6} \\left[ f(a) + 4f\\left(\\frac{a+b}{2}\\right) + f(b) \\right] (1)\n",
    "$$\n",
    "<br>\n",
    "First, we define a simple function and sample it between 0 and 20 at 200 points"
   ]
  },
  {
   "cell_type": "code",
   "execution_count": 36,
   "metadata": {
    "collapsed": true
   },
   "outputs": [],
   "source": [
    "%matplotlib inline\n",
    "import numpy as np\n",
    "import matplotlib.pyplot as plt"
   ]
  },
  {
   "cell_type": "code",
   "execution_count": 37,
   "metadata": {
    "collapsed": false
   },
   "outputs": [],
   "source": [
    "def f(x): \n",
    "    return (x-1)*(x-3)*(x-5)+95\n",
    "x = np.linspace(0,20,200)\n",
    "y = f(x)"
   ]
  },
  {
   "cell_type": "markdown",
   "metadata": {},
   "source": [
    "Next choose the limits of integration and assign them to a and b respectivley, and get x and y values between and and b at 10 points"
   ]
  },
  {
   "cell_type": "code",
   "execution_count": 38,
   "metadata": {
    "collapsed": true
   },
   "outputs": [],
   "source": [
    "a, b = 1, 7\n",
    "xint = np.linspace(a,b,10)\n",
    "yint = f(xint)"
   ]
  },
  {
   "cell_type": "markdown",
   "metadata": {},
   "source": [
    "Plot the function and the estimated simpsons approximation, note that since Simpsons approximation is of order 4 the cubic function has zero error."
   ]
  },
  {
   "cell_type": "code",
   "execution_count": 39,
   "metadata": {
    "collapsed": false
   },
   "outputs": [
    {
     "data": {
      "text/plain": [
       "<matplotlib.text.Text at 0x207d9cfe898>"
      ]
     },
     "execution_count": 39,
     "metadata": {},
     "output_type": "execute_result"
    },
    {
     "data": {
      "image/png": "[encoded data removed]",
      "text/plain": [
       "<matplotlib.figure.Figure at 0x207d9c14940>"
      ]
     },
     "metadata": {},
     "output_type": "display_data"
    }
   ],
   "source": [
    "plt.plot (x,y,lw=2)\n",
    "plt.axis([0,8,0,180])\n",
    "plt.fill_between(xint,0,yint,facecolor = 'green', alpha = 0.3)\n",
    "plt.text(4, 40, r\"$\\int_1^7 (x-1)*(x-3)*(x-5) + 95 dx$\", horizontalalignment = \"center\", fontsize = 14)\n"
   ]
  },
  {
   "cell_type": "markdown",
   "metadata": {},
   "source": [
    "Compute the Integral and use the Simpson approximation and then compare the results"
   ]
  },
  {
   "cell_type": "code",
   "execution_count": 40,
   "metadata": {
    "collapsed": false
   },
   "outputs": [
    {
     "name": "stdout",
     "output_type": "stream",
     "text": [
      "the value of the evaluted integral from 1 to 7 is 606.0\n",
      "the error for this integral is +/-  6.727951529228449e-12\n",
      "the value for the simpsons approximation of the integral is: 606.0\n",
      "the error for the simpsons approximation is: 0.0\n"
     ]
    }
   ],
   "source": [
    "from scipy.integrate import quad\n",
    "solution1, abserr = quad(f,a,b)\n",
    "simpson = ((b-a)/6)*(f(a) + 4*f((b+a)/2)+ f(b))\n",
    "err1 = solution1 - simpson\n",
    "print(\"the value of the evaluted integral from\",a, \"to\",b, \"is\",solution1)\n",
    "print(\"the error for this integral is +/- \",abserr)\n",
    "print(\"the value for the simpsons approximation of the integral is:\",simpson)\n",
    "print(\"the error for the simpsons approximation is:\",err1)"
   ]
  }
 ],
 "metadata": {
  "anaconda-cloud": {},
  "kernelspec": {
   "display_name": "Python [conda root]",
   "language": "python",
   "name": "conda-root-py"
  },
  "language_info": {
   "codemirror_mode": {
    "name": "ipython",
    "version": 3
   },
   "file_extension": ".py",
   "mimetype": "text/x-python",
   "name": "python",
   "nbconvert_exporter": "python",
   "pygments_lexer": "ipython3",
   "version": "3.5.2"
  }
 },
 "nbformat": 4,
 "nbformat_minor": 1
}
